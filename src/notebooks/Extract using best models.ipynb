{
 "cells": [
  {
   "cell_type": "code",
   "execution_count": 1,
   "metadata": {},
   "outputs": [],
   "source": [
    "paths = {    \n",
    "    'conv5b1_all': 'batch_c5b1_all_20_20200120_021533',\n",
    "    'conv4_b6_all': 'batch_c4b6_all_20_20200120_194715',\n",
    "    'conv4_b5_all': 'batch_c4b5_all_20_20200120_230313',\n",
    "    'conv4_b4_all': 'batch_c4b4_all_20_20200120_020314',\n",
    "    'conv4_b3_all': 'batch_c4b3_all_20_20200120_044342',\n",
    "    'conv4_b2_all': 'batch_c4b2_all_20_20200120_154645',\n",
    "    'conv4_b1_all': 'batch_c4b1_all_20_20200120_085151',\n",
    "    'conv3_b4_all': 'batch_c3b4_all_20_20200120_194932',\n",
    "    'conv3_b3_all': 'batch_c3b3_all_20_20200120_212049',\n",
    "    'conv3_b2_all': 'batch_c3b2_all_20_20200120_162159',\n",
    "    'conv3_b1_all': 'batch_c3b1_all_20_20200120_232916',\n",
    "    'conv2_b2_all': 'batch_c2b2_all_20_20200120_165144', \n",
    "    'conv2_block1_all': 'batch_c2b1_all_20_20200120_201245',\n",
    "}"
   ]
  },
  {
   "cell_type": "code",
   "execution_count": null,
   "metadata": {},
   "outputs": [],
   "source": [
    "cmd = 'python extract_features.py -backbone resnet50 ' \\\n",
    "      '-input_dir /home/jtrell2/Documents/curation/datasets/ds1_clef16_microscopy_20/train ' \\\n",
    "      '-output_dir /home/jtrell2/Documents/curation/features/ds1_clef16_micro_20_conv5_block1/ ' \\\n",
    "      '-suffix %s ' \\\n",
    "      '-output_layer %s ' \\\n",
    "      '-fine_tuned_dir /home/jtrell2/data/clef/artifacts/batch_c5b1_all_20_20200120_021533/best_val.hdf5'"
   ]
  }
 ],
 "metadata": {
  "kernelspec": {
   "display_name": "Python 3",
   "language": "python",
   "name": "python3"
  },
  "language_info": {
   "codemirror_mode": {
    "name": "ipython",
    "version": 3
   },
   "file_extension": ".py",
   "mimetype": "text/x-python",
   "name": "python",
   "nbconvert_exporter": "python",
   "pygments_lexer": "ipython3",
   "version": "3.6.9"
  }
 },
 "nbformat": 4,
 "nbformat_minor": 2
}
